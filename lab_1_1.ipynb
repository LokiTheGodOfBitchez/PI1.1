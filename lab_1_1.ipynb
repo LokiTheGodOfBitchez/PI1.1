{
 "cells": [
  {
   "cell_type": "markdown",
   "id": "ea98365d",
   "metadata": {},
   "source": [
    "# 1. Решение задач на Python"
   ]
  },
  {
   "cell_type": "markdown",
   "id": "417cf592",
   "metadata": {},
   "source": [
    "## 1.1 Математический анализ"
   ]
  },
  {
   "cell_type": "markdown",
   "id": "b0741379",
   "metadata": {},
   "source": [
    "### Комплексные числа"
   ]
  },
  {
   "cell_type": "code",
   "execution_count": 8,
   "id": "105d1324",
   "metadata": {},
   "outputs": [
    {
     "name": "stdout",
     "output_type": "stream",
     "text": [
      "(3+6j)\n",
      "6.0\n",
      "3.0\n"
     ]
    }
   ],
   "source": [
    "from sympy import *\n",
    "import math as m\n",
    "x=complex(3,6)\n",
    "print(x)\n",
    "print(x.imag)\n",
    "print(x.real)"
   ]
  },
  {
   "cell_type": "markdown",
   "id": "4374f9db",
   "metadata": {},
   "source": [
    "Действия над комплексными числами:"
   ]
  },
  {
   "cell_type": "markdown",
   "id": "a3086b64",
   "metadata": {},
   "source": [
    "Пример 1. Сложение, вычитание, умножение и деление."
   ]
  },
  {
   "cell_type": "code",
   "execution_count": 9,
   "id": "c4d2be1f",
   "metadata": {},
   "outputs": [
    {
     "name": "stdout",
     "output_type": "stream",
     "text": [
      "(5+5j)\n",
      "(1-2j)\n",
      "(10+0j)\n",
      "(2+4j)\n",
      "2j\n",
      "(7+11j)\n"
     ]
    }
   ],
   "source": [
    "x=complex(1,3)\n",
    "y=complex(2,-1)\n",
    "z=x*y\n",
    "print(z)\n",
    "g=complex(1,-2)\n",
    "print(g)\n",
    "t=complex(10,0)\n",
    "print(t)\n",
    "h=t/g\n",
    "print(h)\n",
    "p=complex(-1,-1)\n",
    "n=p*p\n",
    "print(n)\n",
    "C=z+h+n\n",
    "print(C)"
   ]
  },
  {
   "cell_type": "markdown",
   "id": "d40635c8",
   "metadata": {},
   "source": [
    "Пример 2. Возведение в степень."
   ]
  },
  {
   "cell_type": "code",
   "execution_count": 10,
   "id": "d402877a",
   "metadata": {},
   "outputs": [
    {
     "name": "stdout",
     "output_type": "stream",
     "text": [
      "(-1+0j)\n"
     ]
    }
   ],
   "source": [
    "x=complex(0,1)\n",
    "y=pow(x,2)\n",
    "print(y)"
   ]
  },
  {
   "cell_type": "markdown",
   "id": "3fe5d3cd",
   "metadata": {},
   "source": [
    "Пример 3. Решение уравнений"
   ]
  },
  {
   "cell_type": "code",
   "execution_count": 11,
   "id": "acbe5f39",
   "metadata": {},
   "outputs": [
    {
     "name": "stdout",
     "output_type": "stream",
     "text": [
      "(5+5j)\n",
      "(1-2j)\n",
      "(10+0j)\n",
      "(2+4j)\n",
      "2j\n",
      "(7+11j)\n"
     ]
    }
   ],
   "source": [
    "x=complex(1,3)\n",
    "y=complex(2,-1)\n",
    "z=x*y\n",
    "print(z)\n",
    "g=complex(1,-2)\n",
    "print(g)\n",
    "t=complex(10,0)\n",
    "print(t)\n",
    "h=t/g\n",
    "print(h)\n",
    "p=complex(-1,-1)\n",
    "n=p*p\n",
    "print(n)\n",
    "C=z+h+n\n",
    "print(C)"
   ]
  },
  {
   "cell_type": "markdown",
   "id": "e805b225",
   "metadata": {},
   "source": [
    "Пример 4. Решение уравнений."
   ]
  },
  {
   "cell_type": "code",
   "execution_count": 12,
   "id": "6b7609a3",
   "metadata": {},
   "outputs": [
    {
     "name": "stdout",
     "output_type": "stream",
     "text": [
      "[1 - 2*I, 1 + 2*I]\n"
     ]
    }
   ],
   "source": [
    "import math\n",
    "from sympy import*\n",
    "x = Symbol(\"x\")\n",
    "print(solve(x**2-2*x+5))"
   ]
  },
  {
   "cell_type": "markdown",
   "id": "dd98ea51",
   "metadata": {},
   "source": [
    "Пример 5. Нахождение значения функции."
   ]
  },
  {
   "cell_type": "code",
   "execution_count": 13,
   "id": "6a811648",
   "metadata": {},
   "outputs": [
    {
     "name": "stdout",
     "output_type": "stream",
     "text": [
      "(-4+23j)\n"
     ]
    }
   ],
   "source": [
    "x=complex(1,-2)\n",
    "i=complex(0,1)\n",
    "f=x**4+(2+i)/x-(-3+2*i)\n",
    "print (f)"
   ]
  },
  {
   "cell_type": "markdown",
   "id": "77b7cec0",
   "metadata": {},
   "source": [
    "Пример 6. Вычисления"
   ]
  },
  {
   "cell_type": "code",
   "execution_count": 14,
   "id": "b543804a",
   "metadata": {},
   "outputs": [
    {
     "data": {
      "text/plain": [
       "(-0+2j)"
      ]
     },
     "execution_count": 14,
     "metadata": {},
     "output_type": "execute_result"
    }
   ],
   "source": [
    "(1+i)**8/(1+i)**6"
   ]
  },
  {
   "cell_type": "markdown",
   "id": "7b89985d",
   "metadata": {},
   "source": [
    "Пример 7. Решение систем уравнений"
   ]
  },
  {
   "cell_type": "code",
   "execution_count": 15,
   "id": "09bf0090",
   "metadata": {},
   "outputs": [
    {
     "name": "stdout",
     "output_type": "stream",
     "text": [
      "Matrix([[-0.0588 - 0.765*I], [1.82 + 1.71*I]])\n"
     ]
    }
   ],
   "source": [
    "from sympy import Symbol, nsolve\n",
    "import sympy\n",
    "import mpmath\n",
    "mpmath.mp.dps = 3\n",
    "x = Symbol('x')\n",
    "y = Symbol('y')\n",
    "i = complex(0,1)\n",
    "f1 = (2+i)*x+y*(2-i)-6\n",
    "f2 = (2-i)*x+(3-2*i)*y-8\n",
    "print(nsolve((f1, f2), (x, y), (-1, 1)))"
   ]
  },
  {
   "cell_type": "markdown",
   "id": "1c1e0ca5",
   "metadata": {},
   "source": [
    "Пример 8. Вычислить"
   ]
  },
  {
   "cell_type": "code",
   "execution_count": 16,
   "id": "89df9b21",
   "metadata": {},
   "outputs": [
    {
     "data": {
      "text/plain": [
       "[-2.0 + 1.0*I, 2.0 - 1.0*I]"
      ]
     },
     "execution_count": 16,
     "metadata": {},
     "output_type": "execute_result"
    }
   ],
   "source": [
    "solve(x**2-3+4*i)"
   ]
  },
  {
   "cell_type": "markdown",
   "id": "b0b37a7e",
   "metadata": {},
   "source": [
    "Пример 9. Решение уравнений"
   ]
  },
  {
   "cell_type": "code",
   "execution_count": 17,
   "id": "582e145b",
   "metadata": {},
   "outputs": [
    {
     "name": "stdout",
     "output_type": "stream",
     "text": [
      "[0.8 - 0.4*I, 1.0 - 1.0*I]\n"
     ]
    }
   ],
   "source": [
    "x = Symbol(\"x\")\n",
    "i = complex(0,1)\n",
    "print(solve((2+i)*x**2-(5-i)*x+2-2*i))"
   ]
  },
  {
   "cell_type": "markdown",
   "id": "54ebf604",
   "metadata": {},
   "source": [
    "Пример 10. Вычислить"
   ]
  },
  {
   "cell_type": "code",
   "execution_count": 18,
   "id": "982b9d5b",
   "metadata": {},
   "outputs": [
    {
     "name": "stdout",
     "output_type": "stream",
     "text": [
      "[-2.0 + 1.0*I, 2.0 - 1.0*I]\n"
     ]
    }
   ],
   "source": [
    "x=Symbol(\"x\")\n",
    "i=complex(0,1)\n",
    "print(solve(x**2-3+4*i))"
   ]
  },
  {
   "cell_type": "markdown",
   "id": "2b50dd7f",
   "metadata": {},
   "source": [
    "Пример 11. Вычислить"
   ]
  },
  {
   "cell_type": "code",
   "execution_count": 23,
   "id": "ef3ded73",
   "metadata": {
    "scrolled": true
   },
   "outputs": [
    {
     "data": {
      "text/plain": [
       "(28984573.79411765+34989571.323529415j)"
      ]
     },
     "execution_count": 23,
     "metadata": {},
     "output_type": "execute_result"
    }
   ],
   "source": [
    "i=complex(0,1)\n",
    "-(3+5*i)**10-25*(3*i-9)/(2+8*i)"
   ]
  },
  {
   "cell_type": "markdown",
   "id": "e5c43d48",
   "metadata": {},
   "source": [
    "Пример 12. Найти модуль и аргумент комплексного числа"
   ]
  },
  {
   "cell_type": "code",
   "execution_count": 6,
   "id": "2552cb7d",
   "metadata": {},
   "outputs": [
    {
     "name": "stdout",
     "output_type": "stream",
     "text": [
      "60\n",
      "3.9999999999999996\n"
     ]
    }
   ],
   "source": [
    "import cmath\n",
    "from math import sqrt\n",
    "z=complex(2,2*sqrt(3))\n",
    "print(round(math.degrees(cmath.phase(z))))\n",
    "print(abs(z))"
   ]
  },
  {
   "cell_type": "markdown",
   "id": "d5258b85",
   "metadata": {},
   "source": [
    "Пример 13. Вычислить"
   ]
  },
  {
   "cell_type": "code",
   "execution_count": 24,
   "id": "25c48c2d",
   "metadata": {},
   "outputs": [
    {
     "data": {
      "text/plain": [
       "(-0.19999999999999982+5.6000000000000005j)"
      ]
     },
     "execution_count": 24,
     "metadata": {},
     "output_type": "execute_result"
    }
   ],
   "source": [
    "z1=complex(-4,-9)\n",
    "z2=complex(1,-8)\n",
    "complex(z1-conjugate(z2))/complex(z2+conjugate(z1))"
   ]
  },
  {
   "cell_type": "code",
   "execution_count": 25,
   "id": "3fdecf45",
   "metadata": {},
   "outputs": [
    {
     "name": "stdout",
     "output_type": "stream",
     "text": [
      "(-1.8648648648648647+0.1891891891891892j)\n"
     ]
    }
   ],
   "source": [
    "i=complex(0,1)\n",
    "print((1+2*i)*(-1+5*i)/(6-i))"
   ]
  },
  {
   "cell_type": "code",
   "execution_count": 26,
   "id": "09d3d026",
   "metadata": {},
   "outputs": [
    {
     "name": "stdout",
     "output_type": "stream",
     "text": [
      "(-30-10j)\n"
     ]
    }
   ],
   "source": [
    "z=complex(1,2)\n",
    "p=(1+3*i)*z**2+(-5+6*i)*z+(2-i)\n",
    "print(p)"
   ]
  },
  {
   "cell_type": "markdown",
   "id": "a7f60ea2",
   "metadata": {},
   "source": [
    "### Примеры решения задач:"
   ]
  },
  {
   "cell_type": "code",
   "execution_count": 27,
   "id": "071dcf8d",
   "metadata": {},
   "outputs": [
    {
     "name": "stdout",
     "output_type": "stream",
     "text": [
      "(-0.19999999999999982+5.6000000000000005j)\n"
     ]
    }
   ],
   "source": [
    "z1=-4-9*1j\n",
    "z2=1-8*1j\n",
    "print((z1-z2.conjugate())/(z1.conjugate()+z2))"
   ]
  },
  {
   "cell_type": "code",
   "execution_count": 28,
   "id": "240b1686",
   "metadata": {},
   "outputs": [
    {
     "name": "stdout",
     "output_type": "stream",
     "text": [
      "60\n",
      "3.9999999999999996\n"
     ]
    }
   ],
   "source": [
    "import math\n",
    "import cmath\n",
    "z=2+2*math.sqrt(3)*1j\n",
    "fi=round(math.degrees(cmath.phase(z)))\n",
    "print(fi)\n",
    "r=abs(z)\n",
    "print(r)"
   ]
  },
  {
   "cell_type": "code",
   "execution_count": 29,
   "id": "6caf8123",
   "metadata": {},
   "outputs": [
    {
     "name": "stdout",
     "output_type": "stream",
     "text": [
      "120\n",
      "6.0\n"
     ]
    }
   ],
   "source": [
    "import math\n",
    "import cmath\n",
    "z=-3+3*math.sqrt(3)*1j\n",
    "fi=round(math.degrees(cmath.phase(z)))\n",
    "print(fi)\n",
    "r=abs(z)\n",
    "print(r)"
   ]
  },
  {
   "cell_type": "code",
   "execution_count": 30,
   "id": "09d52d80",
   "metadata": {},
   "outputs": [
    {
     "name": "stdout",
     "output_type": "stream",
     "text": [
      "(1.3+0.09999999999999998j)\n"
     ]
    }
   ],
   "source": [
    "z1=1-2j\n",
    "z2=1+1j\n",
    "print(z1/z2.conjugate()+z2/z1)"
   ]
  },
  {
   "cell_type": "code",
   "execution_count": 31,
   "id": "bd22f62a",
   "metadata": {},
   "outputs": [
    {
     "name": "stdout",
     "output_type": "stream",
     "text": [
      "(-2.0270270270270268+0.16216216216216214j)\n"
     ]
    }
   ],
   "source": [
    "z1=-1-9j\n",
    "z2=2-3j\n",
    "print((z1-z2.conjugate())/(z1.conjugate()+z2))"
   ]
  },
  {
   "cell_type": "code",
   "execution_count": 32,
   "id": "d6a97856",
   "metadata": {},
   "outputs": [
    {
     "name": "stdout",
     "output_type": "stream",
     "text": [
      "(-2.323529411764706+1.2058823529411764j)\n"
     ]
    }
   ],
   "source": [
    "z1=-1+4j\n",
    "z2=1+1j\n",
    "print((z1/z2.conjugate())+z2/z1)"
   ]
  },
  {
   "cell_type": "code",
   "execution_count": 33,
   "id": "a7e4c514",
   "metadata": {},
   "outputs": [
    {
     "name": "stdout",
     "output_type": "stream",
     "text": [
      "(0.31707317073170743-1.1463414634146343j)\n"
     ]
    }
   ],
   "source": [
    "print((3+7j)/(4j-5))"
   ]
  },
  {
   "cell_type": "code",
   "execution_count": 34,
   "id": "22eb5aaa",
   "metadata": {},
   "outputs": [
    {
     "name": "stdout",
     "output_type": "stream",
     "text": [
      "(0.3+2.1j)\n"
     ]
    }
   ],
   "source": [
    "z1=-1+1j\n",
    "z2=-2+1j\n",
    "print((z2.conjugate()/z1)-(z1/z2.conjugate()))"
   ]
  },
  {
   "cell_type": "code",
   "execution_count": 35,
   "id": "2621f322",
   "metadata": {},
   "outputs": [
    {
     "name": "stdout",
     "output_type": "stream",
     "text": [
      "(-4-59j)\n"
     ]
    }
   ],
   "source": [
    "z=1+3j\n",
    "p=(-4+4j)*(z*z)+(-1+3j)*z+(-2-3j)\n",
    "print(p)"
   ]
  },
  {
   "cell_type": "code",
   "execution_count": 36,
   "id": "5e759dba",
   "metadata": {},
   "outputs": [
    {
     "name": "stdout",
     "output_type": "stream",
     "text": [
      "(-472-214j)\n"
     ]
    }
   ],
   "source": [
    "z=6+5j\n",
    "p=(-5+6j)*(z*z)+(-4+6j)*z+(-3+4j)\n",
    "print(p)"
   ]
  },
  {
   "cell_type": "code",
   "execution_count": 37,
   "id": "a4f67e52",
   "metadata": {},
   "outputs": [
    {
     "data": {
      "text/plain": [
       "(0.6486486486486486-5.891891891891892j)"
      ]
     },
     "execution_count": 37,
     "metadata": {},
     "output_type": "execute_result"
    }
   ],
   "source": [
    "((4-3j)*(6+4j))/(1+6j)"
   ]
  },
  {
   "cell_type": "code",
   "execution_count": 38,
   "id": "7402f4f2",
   "metadata": {},
   "outputs": [
    {
     "name": "stdout",
     "output_type": "stream",
     "text": [
      "(100+42j)\n"
     ]
    }
   ],
   "source": [
    "z=-1-4j\n",
    "p=(-3-4j)*(z*z)+(-2+4j)*z+(5+2j)\n",
    "print(p)"
   ]
  },
  {
   "cell_type": "code",
   "execution_count": 39,
   "id": "dc9b813b",
   "metadata": {},
   "outputs": [
    {
     "data": {
      "text/plain": [
       "(-135, 11.313708498984761)"
      ]
     },
     "execution_count": 39,
     "metadata": {},
     "output_type": "execute_result"
    }
   ],
   "source": [
    "import math\n",
    "import cmath\n",
    "z=complex(-8,-8)\n",
    "round(math.degrees(cmath.phase(z))), abs(z)"
   ]
  },
  {
   "cell_type": "code",
   "execution_count": 40,
   "id": "decc12a7",
   "metadata": {},
   "outputs": [
    {
     "data": {
      "text/plain": [
       "(-1.8648648648648647+0.1891891891891892j)"
      ]
     },
     "execution_count": 40,
     "metadata": {},
     "output_type": "execute_result"
    }
   ],
   "source": [
    "((1+2j)*(-1+5j))/(6-1j)"
   ]
  },
  {
   "cell_type": "code",
   "execution_count": 41,
   "id": "b70b9274",
   "metadata": {},
   "outputs": [
    {
     "name": "stdout",
     "output_type": "stream",
     "text": [
      "[-4 - 2*I, -4 + 2*I]\n"
     ]
    }
   ],
   "source": [
    "import math\n",
    "from sympy import *\n",
    "x=Symbol(\"x\")\n",
    "print(solve(x**2+8*x+20))"
   ]
  },
  {
   "cell_type": "code",
   "execution_count": 42,
   "id": "ba643aa7",
   "metadata": {},
   "outputs": [
    {
     "name": "stdout",
     "output_type": "stream",
     "text": [
      "[-3 - I, -3 + I]\n"
     ]
    }
   ],
   "source": [
    "import math\n",
    "from sympy import *\n",
    "x=Symbol(\"x\")\n",
    "print(solve(x**2+6*x+10))"
   ]
  },
  {
   "cell_type": "code",
   "execution_count": 43,
   "id": "9f3134c8",
   "metadata": {},
   "outputs": [
    {
     "name": "stdout",
     "output_type": "stream",
     "text": [
      "(-30-10j)\n"
     ]
    }
   ],
   "source": [
    "z=1+2j\n",
    "p=(1+3j)*(z*z)+(-5+6j)*z+(2-1j)\n",
    "print(p)"
   ]
  },
  {
   "cell_type": "code",
   "execution_count": 44,
   "id": "98cbdee2",
   "metadata": {},
   "outputs": [
    {
     "data": {
      "text/plain": [
       "(180, 6.0)"
      ]
     },
     "execution_count": 44,
     "metadata": {},
     "output_type": "execute_result"
    }
   ],
   "source": [
    "import math\n",
    "import cmath\n",
    "z=complex(-6,0)\n",
    "round(math.degrees(cmath.phase(z))), abs(z)"
   ]
  },
  {
   "cell_type": "code",
   "execution_count": 45,
   "id": "7cf7c547",
   "metadata": {},
   "outputs": [
    {
     "name": "stdout",
     "output_type": "stream",
     "text": [
      "(-240+13j)\n"
     ]
    }
   ],
   "source": [
    "z=-6-2j\n",
    "p=(-4+3j)*(z*z)+(5-4j)*z+(-2-1j)\n",
    "print(p)"
   ]
  },
  {
   "cell_type": "code",
   "execution_count": 46,
   "id": "fa5308e0",
   "metadata": {},
   "outputs": [
    {
     "data": {
      "text/plain": [
       "(-0.11764705882352941+0.5294117647058824j)"
      ]
     },
     "execution_count": 46,
     "metadata": {},
     "output_type": "execute_result"
    }
   ],
   "source": [
    "(1j+2)/(1-4j)"
   ]
  },
  {
   "cell_type": "code",
   "execution_count": 47,
   "id": "a22d0cce",
   "metadata": {},
   "outputs": [
    {
     "name": "stdout",
     "output_type": "stream",
     "text": [
      "45\n",
      "8.48528137423857\n",
      "(4.4575048871930445-7.220155828003307j)\n"
     ]
    }
   ],
   "source": [
    "import math\n",
    "import cmath\n",
    "z=complex(6,6)\n",
    "print(round(math.degrees(cmath.phase(z))))\n",
    "r=abs(z)\n",
    "print(r)\n",
    "c=r*(math.cos(-45)+1j*math.sin(-45))\n",
    "print(c)"
   ]
  },
  {
   "cell_type": "code",
   "execution_count": 48,
   "id": "41bce323",
   "metadata": {},
   "outputs": [
    {
     "data": {
      "text/plain": [
       "(-2.7058823529411766-5.176470588235294j)"
      ]
     },
     "execution_count": 48,
     "metadata": {},
     "output_type": "execute_result"
    }
   ],
   "source": [
    "((2-5j)*(2-4j))/(4-1j)"
   ]
  },
  {
   "cell_type": "code",
   "execution_count": 49,
   "id": "f01ce330",
   "metadata": {},
   "outputs": [
    {
     "data": {
      "text/plain": [
       "(-8.117647058823529+1.5294117647058822j)"
      ]
     },
     "execution_count": 49,
     "metadata": {},
     "output_type": "execute_result"
    }
   ],
   "source": [
    "((5+2j)*(2+6j))/(1-4j)"
   ]
  },
  {
   "cell_type": "code",
   "execution_count": 50,
   "id": "61dc2472",
   "metadata": {},
   "outputs": [
    {
     "data": {
      "text/plain": [
       "(-8.807692307692307+3.0384615384615383j)"
      ]
     },
     "execution_count": 50,
     "metadata": {},
     "output_type": "execute_result"
    }
   ],
   "source": [
    "((5+6j)*(-1+6j))/(5-1j)"
   ]
  },
  {
   "cell_type": "code",
   "execution_count": 51,
   "id": "3d0c0e30",
   "metadata": {},
   "outputs": [
    {
     "name": "stdout",
     "output_type": "stream",
     "text": [
      "(-92+94j)\n"
     ]
    }
   ],
   "source": [
    "z=1+4j\n",
    "p=(6-3j)*(z*z)+(-2+5j)*z+(-4+4j)\n",
    "print(p)"
   ]
  },
  {
   "cell_type": "code",
   "execution_count": 52,
   "id": "bc1258da",
   "metadata": {},
   "outputs": [
    {
     "data": {
      "text/plain": [
       "(-30, 6.0)"
      ]
     },
     "execution_count": 52,
     "metadata": {},
     "output_type": "execute_result"
    }
   ],
   "source": [
    "import math\n",
    "import cmath\n",
    "z=complex(3*sqrt(3),-3)\n",
    "round(math.degrees(cmath.phase(z))), abs(z)"
   ]
  },
  {
   "cell_type": "code",
   "execution_count": 53,
   "id": "cd106e07",
   "metadata": {},
   "outputs": [
    {
     "name": "stdout",
     "output_type": "stream",
     "text": [
      "180\n",
      "4.0\n",
      "(-2.3938402762314324-3.2046105429353218j)\n"
     ]
    }
   ],
   "source": [
    "import math\n",
    "import cmath\n",
    "z=complex(-4,0)\n",
    "print(round(math.degrees(cmath.phase(z))))\n",
    "r=abs(z)\n",
    "print(r)\n",
    "c=r*(math.cos(180)+1j*math.sin(180))\n",
    "print(c)"
   ]
  },
  {
   "cell_type": "code",
   "execution_count": 54,
   "id": "56564d06",
   "metadata": {},
   "outputs": [
    {
     "data": {
      "text/plain": [
       "(0, 6.0)"
      ]
     },
     "execution_count": 54,
     "metadata": {},
     "output_type": "execute_result"
    }
   ],
   "source": [
    "import math\n",
    "import cmath\n",
    "z=complex(6,0)\n",
    "round(math.degrees(cmath.phase(z))), abs(z)"
   ]
  },
  {
   "cell_type": "code",
   "execution_count": 55,
   "id": "c30a78d1",
   "metadata": {},
   "outputs": [
    {
     "data": {
      "text/plain": [
       "(-2.081081081081081-0.48648648648648646j)"
      ]
     },
     "execution_count": 55,
     "metadata": {},
     "output_type": "execute_result"
    }
   ],
   "source": [
    "z1=2-9j\n",
    "z2=-3-3j\n",
    "(z1-z2.conjugate())/(z1.conjugate()+z2)"
   ]
  },
  {
   "cell_type": "code",
   "execution_count": 56,
   "id": "a9ee9ea5",
   "metadata": {},
   "outputs": [
    {
     "data": {
      "text/plain": [
       "(1.6153846153846154+1.0769230769230769j)"
      ]
     },
     "execution_count": 56,
     "metadata": {},
     "output_type": "execute_result"
    }
   ],
   "source": [
    "z1=-1+2j\n",
    "z2=-1+5j\n",
    "(z1.conjugate()-z2)/(z1+z2.conjugate())"
   ]
  },
  {
   "cell_type": "code",
   "execution_count": 57,
   "id": "27e13401",
   "metadata": {},
   "outputs": [
    {
     "data": {
      "text/plain": [
       "(1.3513513513513513-0.8918918918918919j)"
      ]
     },
     "execution_count": 57,
     "metadata": {},
     "output_type": "execute_result"
    }
   ],
   "source": [
    "(4+9j)/(6j-1)"
   ]
  },
  {
   "cell_type": "code",
   "execution_count": 58,
   "id": "918d893a",
   "metadata": {},
   "outputs": [
    {
     "data": {
      "text/plain": [
       "(-3.724137931034483+5.310344827586207j)"
      ]
     },
     "execution_count": 58,
     "metadata": {},
     "output_type": "execute_result"
    }
   ],
   "source": [
    "((6+5j)*(-4+2j))/(2+5j)"
   ]
  },
  {
   "cell_type": "code",
   "execution_count": 59,
   "id": "23cfeab2",
   "metadata": {},
   "outputs": [
    {
     "name": "stdout",
     "output_type": "stream",
     "text": [
      "(31+122j)\n"
     ]
    }
   ],
   "source": [
    "z=-1+4j\n",
    "p=(-4-5j)*(z*z)+(2-4j)*z+(-3+3j)\n",
    "print(p)"
   ]
  },
  {
   "cell_type": "code",
   "execution_count": 60,
   "id": "4951f280",
   "metadata": {},
   "outputs": [
    {
     "data": {
      "text/plain": [
       "(135, 8.48528137423857)"
      ]
     },
     "execution_count": 60,
     "metadata": {},
     "output_type": "execute_result"
    }
   ],
   "source": [
    "import math\n",
    "import cmath\n",
    "z=complex(-6,6)\n",
    "round(math.degrees(cmath.phase(z))), abs(z)"
   ]
  },
  {
   "cell_type": "code",
   "execution_count": 61,
   "id": "8770fef9",
   "metadata": {},
   "outputs": [
    {
     "name": "stdout",
     "output_type": "stream",
     "text": [
      "[-5 - I, -5 + I]\n"
     ]
    }
   ],
   "source": [
    "import math\n",
    "from sympy import *\n",
    "x=Symbol(\"x\")\n",
    "print(solve(x**2+10*x+26))"
   ]
  },
  {
   "cell_type": "code",
   "execution_count": 62,
   "id": "d016e9e3",
   "metadata": {},
   "outputs": [
    {
     "data": {
      "text/plain": [
       "(-2.823529411764706+2.7058823529411766j)"
      ]
     },
     "execution_count": 62,
     "metadata": {},
     "output_type": "execute_result"
    }
   ],
   "source": [
    "((-2+3j)*(-2+4j))/(-1+4j)"
   ]
  },
  {
   "cell_type": "code",
   "execution_count": 63,
   "id": "5dcd6abc",
   "metadata": {},
   "outputs": [
    {
     "name": "stdout",
     "output_type": "stream",
     "text": [
      "[-1 - 7*I, -1 + 7*I]\n"
     ]
    }
   ],
   "source": [
    "import math\n",
    "from sympy import *\n",
    "x=Symbol(\"x\")\n",
    "print(solve(x**2+2*x+50))"
   ]
  },
  {
   "cell_type": "code",
   "execution_count": 64,
   "id": "90401b01",
   "metadata": {},
   "outputs": [
    {
     "data": {
      "text/plain": [
       "(0.8235294117647058+1.7058823529411764j)"
      ]
     },
     "execution_count": 64,
     "metadata": {},
     "output_type": "execute_result"
    }
   ],
   "source": [
    "z1=2-4j\n",
    "z2=-3+7j\n",
    "(z1.conjugate()+z2)/(z1-z2.conjugate())"
   ]
  },
  {
   "cell_type": "code",
   "execution_count": 65,
   "id": "cdf124e1",
   "metadata": {},
   "outputs": [
    {
     "data": {
      "text/plain": [
       "(0.82-0.74j)"
      ]
     },
     "execution_count": 65,
     "metadata": {},
     "output_type": "execute_result"
    }
   ],
   "source": [
    "(5j+6)/(1+7j)"
   ]
  },
  {
   "cell_type": "code",
   "execution_count": 66,
   "id": "c26ee52f",
   "metadata": {},
   "outputs": [
    {
     "data": {
      "text/plain": [
       "(-4.864864864864865-0.8108108108108107j)"
      ]
     },
     "execution_count": 66,
     "metadata": {},
     "output_type": "execute_result"
    }
   ],
   "source": [
    "((-6+3j)*(-2+4j))/(1+6j)"
   ]
  },
  {
   "cell_type": "code",
   "execution_count": 67,
   "id": "d2758610",
   "metadata": {},
   "outputs": [
    {
     "data": {
      "text/plain": [
       "(1.0769230769230769+0.6153846153846155j)"
      ]
     },
     "execution_count": 67,
     "metadata": {},
     "output_type": "execute_result"
    }
   ],
   "source": [
    "(4j+2)/(3+2j)"
   ]
  },
  {
   "cell_type": "code",
   "execution_count": 68,
   "id": "cdf8e051",
   "metadata": {},
   "outputs": [
    {
     "data": {
      "text/plain": [
       "(0, 6.0)"
      ]
     },
     "execution_count": 68,
     "metadata": {},
     "output_type": "execute_result"
    }
   ],
   "source": [
    "import math\n",
    "import cmath\n",
    "z=complex(6,0)\n",
    "round(math.degrees(cmath.phase(z))), abs(z)"
   ]
  },
  {
   "cell_type": "code",
   "execution_count": 69,
   "id": "84852a17",
   "metadata": {},
   "outputs": [
    {
     "data": {
      "text/plain": [
       "(135, 2.8284271247461903)"
      ]
     },
     "execution_count": 69,
     "metadata": {},
     "output_type": "execute_result"
    }
   ],
   "source": [
    "import math\n",
    "import cmath\n",
    "z=complex(-2,2)\n",
    "round(math.degrees(cmath.phase(z))), abs(z)"
   ]
  },
  {
   "cell_type": "code",
   "execution_count": 70,
   "id": "aa1080af",
   "metadata": {},
   "outputs": [
    {
     "name": "stdout",
     "output_type": "stream",
     "text": [
      "[-6 - I, -6 + I]\n"
     ]
    }
   ],
   "source": [
    "import math\n",
    "from sympy import *\n",
    "x=Symbol(\"x\")\n",
    "print(solve(x**2+12*x+37))"
   ]
  },
  {
   "cell_type": "code",
   "execution_count": 71,
   "id": "72560e2c",
   "metadata": {},
   "outputs": [
    {
     "data": {
      "text/plain": [
       "(-2.423076923076923-0.11538461538461542j)"
      ]
     },
     "execution_count": 71,
     "metadata": {},
     "output_type": "execute_result"
    }
   ],
   "source": [
    "z1=-1-1j\n",
    "z2=2+3j\n",
    "(z1.conjugate()/z2)+(z2/z1)"
   ]
  },
  {
   "cell_type": "code",
   "execution_count": 72,
   "id": "ef483d7e",
   "metadata": {},
   "outputs": [
    {
     "data": {
      "text/plain": [
       "(-1.7999999999999998-5.6000000000000005j)"
      ]
     },
     "execution_count": 72,
     "metadata": {},
     "output_type": "execute_result"
    }
   ],
   "source": [
    "z1=8+7j\n",
    "z2=7+4j\n",
    "(z1.conjugate()+z2.conjugate())/(z1-z2)"
   ]
  },
  {
   "cell_type": "code",
   "execution_count": 73,
   "id": "80d19db5",
   "metadata": {},
   "outputs": [
    {
     "data": {
      "text/plain": [
       "(-120, 3.9999999999999996)"
      ]
     },
     "execution_count": 73,
     "metadata": {},
     "output_type": "execute_result"
    }
   ],
   "source": [
    "import math\n",
    "import cmath\n",
    "z=complex(-2,-2*math.sqrt(3))\n",
    "round(math.degrees(cmath.phase(z))), abs(z)"
   ]
  },
  {
   "cell_type": "code",
   "execution_count": 74,
   "id": "1526591b",
   "metadata": {},
   "outputs": [
    {
     "name": "stdout",
     "output_type": "stream",
     "text": [
      "(-94+54j)\n"
     ]
    }
   ],
   "source": [
    "z=2+4j\n",
    "p=(4+3j)*(z*z)+(5+1j)*z+(-4+4j)\n",
    "print(p)"
   ]
  },
  {
   "cell_type": "code",
   "execution_count": 75,
   "id": "7cccc98a",
   "metadata": {},
   "outputs": [
    {
     "data": {
      "text/plain": [
       "(-0.46153846153846156-1.3076923076923077j)"
      ]
     },
     "execution_count": 75,
     "metadata": {},
     "output_type": "execute_result"
    }
   ],
   "source": [
    "z1=-3+3j\n",
    "z2=-4-2j\n",
    "(z1+z2)/(z1.conjugate()-z2.conjugate())"
   ]
  },
  {
   "cell_type": "code",
   "execution_count": 76,
   "id": "9de4e5e7",
   "metadata": {},
   "outputs": [
    {
     "data": {
      "text/plain": [
       "(-4.137931034482759+0.3448275862068966j)"
      ]
     },
     "execution_count": 76,
     "metadata": {},
     "output_type": "execute_result"
    }
   ],
   "source": [
    "((2-4j)*(3-4j))/(2+5j)"
   ]
  },
  {
   "cell_type": "markdown",
   "id": "64f693b4",
   "metadata": {},
   "source": [
    "### Индивидуальное задание:"
   ]
  },
  {
   "cell_type": "markdown",
   "id": "25402498",
   "metadata": {},
   "source": [
    "13. Вычислить модуль и аргумент числа\n",
    "z = 5 + 5i"
   ]
  },
  {
   "cell_type": "code",
   "execution_count": 8,
   "id": "175f1ede",
   "metadata": {},
   "outputs": [
    {
     "data": {
      "text/plain": [
       "(45, 7.0710678118654755)"
      ]
     },
     "execution_count": 8,
     "metadata": {},
     "output_type": "execute_result"
    }
   ],
   "source": [
    "import math\n",
    "import cmath\n",
    "z=complex(5,5)\n",
    "round(math.degrees(cmath.phase(z))), abs(z)"
   ]
  },
  {
   "cell_type": "markdown",
   "id": "1db8a61d",
   "metadata": {},
   "source": [
    "32. Найти комплексные корни уравнения х^2 - 7x + 40 = 0"
   ]
  },
  {
   "cell_type": "code",
   "execution_count": 9,
   "id": "06d122e0",
   "metadata": {},
   "outputs": [
    {
     "name": "stdout",
     "output_type": "stream",
     "text": [
      "[7/2 - sqrt(111)*I/2, 7/2 + sqrt(111)*I/2]\n"
     ]
    }
   ],
   "source": [
    "import math\n",
    "from sympy import *\n",
    "x=Symbol(\"x\")\n",
    "print(solve(x**2-7*x+40))"
   ]
  },
  {
   "cell_type": "markdown",
   "id": "435fe327",
   "metadata": {},
   "source": [
    "42. Вычислите значение многочлена P(z) = (1000004+3000999i)*z^2+(5+i)*z+(-4+4i) в точке z = 1+134i"
   ]
  },
  {
   "cell_type": "code",
   "execution_count": 7,
   "id": "4ecb3fc7",
   "metadata": {},
   "outputs": [
    {
     "name": "stdout",
     "output_type": "stream",
     "text": [
      "(-18759339685-53614935298j)\n"
     ]
    }
   ],
   "source": [
    "z = 1+134j\n",
    "p = (1000004+3000999j)*(z*z)+(5+1j)*z+(-4+4j)\n",
    "print(p)"
   ]
  },
  {
   "cell_type": "markdown",
   "id": "e65e7f71",
   "metadata": {},
   "source": [
    "52. Пусть z(1) = 1 - 3i, z(2) = 2 - 9i"
   ]
  },
  {
   "cell_type": "code",
   "execution_count": 12,
   "id": "17910feb",
   "metadata": {},
   "outputs": [
    {
     "data": {
      "text/plain": [
       "(1.8648648648648647-0.8108108108108107j)"
      ]
     },
     "execution_count": 12,
     "metadata": {},
     "output_type": "execute_result"
    }
   ],
   "source": [
    "z1=1-3j\n",
    "z2=2-9j\n",
    "(z1.conjugate()+z2.conjugate())/(z1-z2)"
   ]
  },
  {
   "cell_type": "markdown",
   "id": "fd12d4fa",
   "metadata": {},
   "source": [
    "62. Вычислите значение выражения и представьте результат в виде a + bi"
   ]
  },
  {
   "cell_type": "code",
   "execution_count": 14,
   "id": "56564798",
   "metadata": {},
   "outputs": [
    {
     "data": {
      "text/plain": [
       "(3.44+3.08j)"
      ]
     },
     "execution_count": 14,
     "metadata": {},
     "output_type": "execute_result"
    }
   ],
   "source": [
    "((-4+5j)*(3-2j))/(3+4j)"
   ]
  },
  {
   "cell_type": "markdown",
   "id": "22900ceb",
   "metadata": {},
   "source": [
    "Ответ: 3.44 + 3.08i"
   ]
  },
  {
   "cell_type": "markdown",
   "id": "79a34c75",
   "metadata": {},
   "source": [
    "72. Выполнить указанные действия"
   ]
  },
  {
   "cell_type": "code",
   "execution_count": 16,
   "id": "1cfc9831",
   "metadata": {},
   "outputs": [
    {
     "data": {
      "text/plain": [
       "(485+149.5j)"
      ]
     },
     "execution_count": 16,
     "metadata": {},
     "output_type": "execute_result"
    }
   ],
   "source": [
    "((-1+10j)**3)/((1-1j)**2)"
   ]
  }
 ],
 "metadata": {
  "kernelspec": {
   "display_name": "Python 3 (ipykernel)",
   "language": "python",
   "name": "python3"
  },
  "language_info": {
   "codemirror_mode": {
    "name": "ipython",
    "version": 3
   },
   "file_extension": ".py",
   "mimetype": "text/x-python",
   "name": "python",
   "nbconvert_exporter": "python",
   "pygments_lexer": "ipython3",
   "version": "3.9.13"
  }
 },
 "nbformat": 4,
 "nbformat_minor": 5
}
